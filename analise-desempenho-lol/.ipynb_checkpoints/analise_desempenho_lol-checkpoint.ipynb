{
 "cells": [
  {
   "cell_type": "code",
   "execution_count": 2,
   "id": "fddd98b2-6c33-4440-9fff-627b3f687abb",
   "metadata": {},
   "outputs": [],
   "source": [
    "import mwclient "
   ]
  },
  {
   "cell_type": "code",
   "execution_count": 4,
   "id": "27a56aae-c53e-40e9-838d-6ceee80b3d87",
   "metadata": {},
   "outputs": [],
   "source": [
    "site = mwclient.Site('lol.gamepedia.com', path='/')"
   ]
  },
  {
   "cell_type": "code",
   "execution_count": null,
   "id": "e1ed7920-a416-4605-b55d-a04e4fb9272c",
   "metadata": {},
   "outputs": [],
   "source": []
  }
 ],
 "metadata": {
  "kernelspec": {
   "display_name": "Python 3 (ipykernel)",
   "language": "python",
   "name": "python3"
  },
  "language_info": {
   "codemirror_mode": {
    "name": "ipython",
    "version": 3
   },
   "file_extension": ".py",
   "mimetype": "text/x-python",
   "name": "python",
   "nbconvert_exporter": "python",
   "pygments_lexer": "ipython3",
   "version": "3.11.5"
  }
 },
 "nbformat": 4,
 "nbformat_minor": 5
}
