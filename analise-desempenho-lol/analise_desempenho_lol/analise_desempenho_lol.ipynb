{
 "cells": [
  {
   "cell_type": "code",
   "execution_count": 5,
   "id": "fddd98b2-6c33-4440-9fff-627b3f687abb",
   "metadata": {},
   "outputs": [],
   "source": [
    "from mwrogue.esports_client import EsportsClient\n",
    "site = EsportsClient(\"lol\")\n"
   ]
  },
  {
   "cell_type": "code",
   "execution_count": 14,
   "id": "f8835629-0d00-48b3-978b-3fcb76579787",
   "metadata": {},
   "outputs": [
    {
     "data": {
      "application/vnd.jupyter.widget-view+json": {
       "model_id": "414b2efe895c4fbc89af08ed3c9dab32",
       "version_major": 2,
       "version_minor": 0
      },
      "text/plain": [
       "  0%|          | 0/97095 [00:00<?, ?it/s]"
      ]
     },
     "metadata": {},
     "output_type": "display_data"
    }
   ],
   "source": [
    "from tqdm.notebook import tqdm\n",
    "response = (site.cargo_client.query(\n",
    "    tables=\"ScoreboardGames=SG, Tournaments=T\",\n",
    "    join_on=\"SG.OverviewPage=T.OverviewPage\",\n",
    "    fields=\"T.Name, SG.DateTime_UTC, SG.Team1, SG.Team2\"\n",
    ")"
   ]
  },
  {
   "cell_type": "code",
   "execution_count": 15,
   "id": "31d8b9a9-3aff-49bc-b67c-6302fc91fed3",
   "metadata": {},
   "outputs": [
    {
     "ename": "NameError",
     "evalue": "name 'responde' is not defined",
     "output_type": "error",
     "traceback": [
      "\u001b[0;31m---------------------------------------------------------------------------\u001b[0m",
      "\u001b[0;31mNameError\u001b[0m                                 Traceback (most recent call last)",
      "Cell \u001b[0;32mIn[15], line 1\u001b[0m\n\u001b[0;32m----> 1\u001b[0m \u001b[38;5;28mprint\u001b[39m(tqdm(\u001b[43mresponde\u001b[49m))\n",
      "\u001b[0;31mNameError\u001b[0m: name 'responde' is not defined"
     ]
    }
   ],
   "source": [
    "print(tqdm(responde))"
   ]
  },
  {
   "cell_type": "code",
   "execution_count": null,
   "id": "8160fd17-2dfe-497b-8cfd-f559bda84c8c",
   "metadata": {},
   "outputs": [],
   "source": []
  }
 ],
 "metadata": {
  "kernelspec": {
   "display_name": "Python 3 (ipykernel)",
   "language": "python",
   "name": "python3"
  },
  "language_info": {
   "codemirror_mode": {
    "name": "ipython",
    "version": 3
   },
   "file_extension": ".py",
   "mimetype": "text/x-python",
   "name": "python",
   "nbconvert_exporter": "python",
   "pygments_lexer": "ipython3",
   "version": "3.11.5"
  }
 },
 "nbformat": 4,
 "nbformat_minor": 5
}
