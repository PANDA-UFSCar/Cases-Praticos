{
 "cells": [
  {
   "cell_type": "markdown",
   "id": "301dcc9a-7498-4c6b-ae85-b7e897b49680",
   "metadata": {},
   "source": [
    "# Análise de Times do League of Legends"
   ]
  },
  {
   "cell_type": "markdown",
   "id": "4158d099-c5d3-4d96-8c27-701dd1508599",
   "metadata": {},
   "source": [
    "### Importação das principais bibliotecas"
   ]
  },
  {
   "cell_type": "code",
   "execution_count": 85,
   "id": "fddd98b2-6c33-4440-9fff-627b3f687abb",
   "metadata": {},
   "outputs": [],
   "source": [
    "from mwrogue.esports_client import EsportsClient\n",
    "import pandas as pd"
   ]
  },
  {
   "cell_type": "markdown",
   "id": "565454f5-3603-4cb4-a834-2d3429c00e32",
   "metadata": {},
   "source": [
    "### Fazer o request na API do lol fandom"
   ]
  },
  {
   "cell_type": "code",
   "execution_count": 87,
   "id": "f8835629-0d00-48b3-978b-3fcb76579787",
   "metadata": {},
   "outputs": [],
   "source": [
    "site = EsportsClient(\"lol\")\n",
    "\n",
    "response = site.cargo_client.query(\n",
    "    tables = \"Tournaments=T, Leagues=L, MatchSchedule=M\",\n",
    "    fields=\"L.League_Short=League, T.Name=Tournament, M.DateTime_UTC=Date, M.Team1Final=Team1, M.Team2Final=Team2, M.Team1Score, M.Team2Score\",\n",
    "    where = 'L.League_Short = \"CBLOL\"',\n",
    "    join_on = \"T.League = L.League, T.OverviewPage=M.OverviewPage\"\n",
    ")"
   ]
  },
  {
   "cell_type": "markdown",
   "id": "29d85d36-f48a-4a1f-821c-2d79b319690f",
   "metadata": {},
   "source": [
    "### Criação do dataframe e pre processamento"
   ]
  },
  {
   "cell_type": "code",
   "execution_count": 88,
   "id": "d611c368-4549-4397-9728-5199bd78ffda",
   "metadata": {},
   "outputs": [],
   "source": [
    "MatchData = pd.DataFrame(response)"
   ]
  },
  {
   "cell_type": "code",
   "execution_count": 92,
   "id": "96b385b4-cbb7-4afe-be5c-df2ce7e125f1",
   "metadata": {},
   "outputs": [],
   "source": [
    "MatchData = MatchData.replace(\"\",float(\"NaN\")).dropna(axis='index', how='any')\n",
    "MatchData = MatchData.drop(['League', 'Tournament'], axis=1)\n",
    "MatchData = MatchData.astype({'Team1Score':'int32','Team2Score':'int32'})"
   ]
  },
  {
   "cell_type": "markdown",
   "id": "ebc76472-6faa-436b-b1c1-65f902b21547",
   "metadata": {},
   "source": [
    "#### Arrumando a data e fazendo"
   ]
  },
  {
   "cell_type": "code",
   "execution_count": 94,
   "id": "635ad88a-ef40-4fed-9c78-acfff6013654",
   "metadata": {},
   "outputs": [],
   "source": [
    "MatchData['Date'] = pd.to_datetime(MatchData['Date'])\n",
    "MatchData['Date'] = MatchData['Date'].dt.date\n",
    "MatchData = MatchData.drop(\"Date__precision\", axis=1)\n",
    "MatchData.sort_values(by=\"Date\",inplace=True)"
   ]
  },
  {
   "cell_type": "code",
   "execution_count": 95,
   "id": "e690d6d8-21ff-43b5-90af-13b394fe7280",
   "metadata": {},
   "outputs": [
    {
     "name": "stdout",
     "output_type": "stream",
     "text": [
      "            Date              Team1            Team2 Team1Score Team2Score\n",
      "0     2014-04-26     KaBuM! Esports      Team United          1          1\n",
      "1     2014-04-26         Keyd Stars         Team awp          2          0\n",
      "2     2014-04-27        paiN Gaming      Team United          0          2\n",
      "3     2014-04-27         Keyd Stars   KaBuM! Esports          2          0\n",
      "4     2014-04-27  CNB e-Sports Club         Team awp          1          1\n",
      "...          ...                ...              ...        ...        ...\n",
      "1256  2023-08-19               INTZ  Vivo Keyd Stars          3          1\n",
      "1257  2023-08-20        paiN Gaming             LOUD          0          3\n",
      "1258  2023-08-26         RED Canids             INTZ          3          1\n",
      "1259  2023-08-27        paiN Gaming       RED Canids          3          2\n",
      "1260  2023-09-09               LOUD      paiN Gaming          3          1\n",
      "\n",
      "[1263 rows x 5 columns]\n"
     ]
    }
   ],
   "source": [
    "print(MatchData)"
   ]
  },
  {
   "cell_type": "markdown",
   "id": "c206abc9-52f6-492b-ba4d-6a8579dc9b22",
   "metadata": {},
   "source": [
    "#### Arrundo o sistema de Partidas"
   ]
  },
  {
   "cell_type": "code",
   "execution_count": 102,
   "id": "35a8a107-f0ca-4f58-888c-6fb77978da2e",
   "metadata": {},
   "outputs": [],
   "source": [
    "MatchData['Team1'] = MatchData['Team1'].replace('Keyd Stars', 'Vivo Keyd Stars')\n",
    "MatchData['Team1'] = MatchData['Team1'].replace('Vivo Keyd', 'Vivo Keyd Stars')\n",
    "MatchData['Team1'] = MatchData['Team1'].replace('Keyd Warriors', 'Vivo Keyd Stars')\n",
    "\n",
    "MatchData['Team2'] = MatchData['Team2'].replace('Keyd Stars', 'Vivo Keyd Stars')\n",
    "MatchData['Team2'] = MatchData['Team2'].replace('Vivo Keyd', 'Vivo Keyd Stars')\n",
    "MatchData['Team2'] = MatchData['Team2'].replace('Keyd Warriors', 'Vivo Keyd Stars')\n",
    "\n",
    "MatchData['Team1'] = MatchData['Team1'].replace('KaBuM! Orange', 'KaBuM! Esports')\n",
    "MatchData['Team2'] = MatchData['Team2'].replace('KaBuM! Orange', 'KaBuM! Esports')\n",
    "\n",
    "MatchData['Team1'] = MatchData['Team1'].replace('Vorax Liberty', 'Liberty')\n",
    "MatchData['Team2'] = MatchData['Team2'].replace('Vorax Liberty', 'Liberty')\n",
    "\n",
    "MatchData['Team1'] = MatchData['Team1'].replace('FURIA Uppercut', 'FURIA')\n",
    "MatchData['Team2'] = MatchData['Team2'].replace('FURIA Uppercut', 'FURIA')\n",
    "\n",
    "MatchData['Team1'] = MatchData['Team1'].replace('Flamengo Los Grandes', 'Los Grandes')\n",
    "MatchData['Team2'] = MatchData['Team2'].replace('Flamengo Los Grandes', 'Los Grandes')\n"
   ]
  },
  {
   "cell_type": "code",
   "execution_count": 101,
   "id": "2e295564-6f59-4c40-8acb-783c4d25cdf4",
   "metadata": {},
   "outputs": [
    {
     "name": "stdout",
     "output_type": "stream",
     "text": [
      "                                 wins  losses  draws\n",
      "paiN Gaming                       147      93     27\n",
      "INTZ                              132     132     12\n",
      "KaBuM! Esports                    128     136     11\n",
      "RED Canids                        106      63      7\n",
      "Flamengo Esports                  100      56      0\n",
      "Vivo Keyd Stars                    91      82     17\n",
      "LOUD                               77      43      0\n",
      "FURIA                              75      84      0\n",
      "CNB e-Sports Club                  50      56     21\n",
      "Liberty                            38      55      0\n",
      "Redemption eSports Porto Alegre    25      39      0\n",
      "Los Grandes                        25      32      0\n",
      "Rensga Esports                     24      51      0\n",
      "Prodigy Esports                    22      21      0\n",
      "Uppercut esports                   21      22      0\n",
      "Fluxo                              21      17      0\n",
      "Netshoes Miners                    15      22      0\n",
      "Team oNe eSports                   15      25      1\n",
      "Vorax                              14       6      0\n",
      "ProGaming Esports                  12      31      4\n",
      "Santos e-Sports                    11      10      0\n",
      "Miners                              8      11      0\n",
      "Operation Kino e-Sports             6      12      8\n",
      "Cruzeiro eSports                    6      12      0\n",
      "KaBuM! Black                        4       9      7\n",
      "g3nerationX                         4      11      4\n",
      "Ilha da Macacada Gaming             4       3      0\n",
      "INTZ Red                            3       5      4\n",
      "Team Alocs                          2       0      0\n",
      "Team United                         1       7      2\n",
      "Team awp                            1       5      4\n",
      "Dexterity Team                      1       8      1\n",
      "Keyd Warriors                       1       0      0\n",
      "INTZ.Genesis                        1       0      0\n",
      "Team Espeon                         1       1      0\n",
      "Big Gods                            1       6      3\n",
      "Razer Pichau Gaming                 1       1      0\n",
      "Santos Dexterity                    0       1      0\n",
      "JAYOB e-Sports                      0       7      2\n",
      "IMP e-Sports                        0       1      0\n",
      "Iron Hawks e-Sports                 0       1      0\n",
      "T Show                              0       7      0\n",
      "Team Genesis                        0       1      0\n",
      "e-Champ Gaming                      0       1      0\n",
      "Team Loop                           0       1      0\n",
      "Team Dioud                          0       1      0\n",
      "Overload (Brazilian Team)           0       1      0\n",
      "Remo Brave e-Sports                 0       5      3\n"
     ]
    }
   ],
   "source": [
    "team_performance = {}\n",
    "for index, row in MatchData.iterrows():\n",
    "    team1, team2 = row['Team1'], row['Team2']\n",
    "    score1, score2 = row['Team1Score'], row['Team2Score']\n",
    "\n",
    "    # Initialize dictionary for new teams\n",
    "    if team1 not in team_performance:\n",
    "        team_performance[team1] = {'wins': 0, 'losses': 0, 'draws': 0}\n",
    "    if team2 not in team_performance:\n",
    "        team_performance[team2] = {'wins': 0, 'losses': 0, 'draws': 0}\n",
    "\n",
    "    # Update records\n",
    "    if score1 > score2:\n",
    "        team_performance[team1]['wins'] += 1\n",
    "        team_performance[team2]['losses'] += 1\n",
    "    elif score1 < score2:\n",
    "        team_performance[team1]['losses'] += 1\n",
    "        team_performance[team2]['wins'] += 1\n",
    "    else:\n",
    "        team_performance[team1]['draws'] += 1\n",
    "        team_performance[team2]['draws'] += 1\n",
    "\n",
    "# Convert to DataFrame for visualization\n",
    "team_performance_df = pd.DataFrame.from_dict(team_performance, orient='index')\n",
    "team_performance_df = team_performance_df.sort_values(by=['wins'], ascending=False)\n",
    "print(team_performance_df)"
   ]
  },
  {
   "cell_type": "code",
   "execution_count": null,
   "id": "1f4d9faa-3bcc-47d0-9b74-4b45918b0b72",
   "metadata": {},
   "outputs": [],
   "source": []
  }
 ],
 "metadata": {
  "kernelspec": {
   "display_name": "Python 3 (ipykernel)",
   "language": "python",
   "name": "python3"
  },
  "language_info": {
   "codemirror_mode": {
    "name": "ipython",
    "version": 3
   },
   "file_extension": ".py",
   "mimetype": "text/x-python",
   "name": "python",
   "nbconvert_exporter": "python",
   "pygments_lexer": "ipython3",
   "version": "3.11.6"
  }
 },
 "nbformat": 4,
 "nbformat_minor": 5
}
